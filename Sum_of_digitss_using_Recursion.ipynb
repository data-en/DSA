{
  "nbformat": 4,
  "nbformat_minor": 0,
  "metadata": {
    "colab": {
      "provenance": []
    },
    "kernelspec": {
      "name": "python3",
      "display_name": "Python 3"
    },
    "language_info": {
      "name": "python"
    }
  },
  "cells": [
    {
      "cell_type": "code",
      "execution_count": 2,
      "metadata": {
        "colab": {
          "base_uri": "https://localhost:8080/"
        },
        "id": "8UydE8E8XW9J",
        "outputId": "4fd564cc-760b-467d-943f-1080dbf2fbc7"
      },
      "outputs": [
        {
          "output_type": "stream",
          "name": "stdout",
          "text": [
            "Enter a number to find their sum of digits : 45632\n",
            "Sum of digits of 45632 is 20\n"
          ]
        }
      ],
      "source": [
        "def SOD(n):\n",
        "  if n == 0: # base case condition\n",
        "    return 0\n",
        "  else:\n",
        "    return (n%10 + SOD(n//10))\n",
        "\n",
        "\n",
        "\n",
        "# Driver code\n",
        "num = int(input(\"Enter a number to find their sum of digits : \"))\n",
        "result = SOD(num)\n",
        "print(f\"Sum of digits of {num} is {result}\")"
      ]
    },
    {
      "cell_type": "code",
      "source": [],
      "metadata": {
        "id": "O6tEcbghYDM4"
      },
      "execution_count": null,
      "outputs": []
    }
  ]
}